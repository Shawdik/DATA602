{
 "cells": [
  {
   "cell_type": "code",
   "execution_count": 22,
   "metadata": {},
   "outputs": [],
   "source": [
    "import pandas as pd\n",
    "import numpy as np"
   ]
  },
  {
   "cell_type": "code",
   "execution_count": 24,
   "metadata": {},
   "outputs": [
    {
     "data": {
      "text/plain": [
       "subject_race\n",
       "asian/pacific islander     309\n",
       "black                      857\n",
       "hispanic                  1714\n",
       "other                      160\n",
       "white                     1771\n",
       "dtype: int64"
      ]
     },
     "execution_count": 24,
     "metadata": {},
     "output_type": "execute_result"
    }
   ],
   "source": [
    "sanD = pd.read_csv('ca_san_diego_2020_04_01.csv')\n",
    "\n",
    "sanD = sanD[['date', 'subject_race', 'arrest_made']]\n",
    "sanD.head()\n",
    "\n",
    "#sanD['subject_race' == 'black']\n",
    "sanD.loc[sanD['arrest_made'] == True]\n",
    "sanD[sanD['arrest_made'] == True].groupby('subject_race').size()\n"
   ]
  }
 ],
 "metadata": {
  "kernelspec": {
   "display_name": "Python 3",
   "language": "python",
   "name": "python3"
  },
  "language_info": {
   "codemirror_mode": {
    "name": "ipython",
    "version": 3
   },
   "file_extension": ".py",
   "mimetype": "text/x-python",
   "name": "python",
   "nbconvert_exporter": "python",
   "pygments_lexer": "ipython3",
   "version": "3.11.6"
  }
 },
 "nbformat": 4,
 "nbformat_minor": 2
}
